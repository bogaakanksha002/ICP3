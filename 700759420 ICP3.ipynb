{
  "nbformat": 4,
  "nbformat_minor": 0,
  "metadata": {
    "colab": {
      "provenance": []
    },
    "kernelspec": {
      "name": "python3",
      "display_name": "Python 3"
    },
    "language_info": {
      "name": "python"
    }
  },
  "cells": [
    {
      "cell_type": "markdown",
      "source": [
        "(a)\tUsing NumPy create random vector of size 15 having only Integers in the range 1-20.\n",
        "1.\tReshape the array to 3 by 5\n",
        "2.\tPrint array shape.\n",
        "3.\tReplace the max in each row by 0\n",
        "\n",
        "\n",
        "Create a 2-dimensional array of size 4 x 3 (composed of 4-byte integer elements), also print the shape, type and data type of the array.\n"
      ],
      "metadata": {
        "id": "r8SrY9BW9f-R"
      }
    },
    {
      "cell_type": "code",
      "source": [
        "import numpy as np\n",
        "r = np.random.randint(1,20,size= 15)\n",
        "print(\"Random values are\")\n",
        "print(r)\n",
        "\n",
        "# 1. Reshape the array to 3 by 5\n",
        "s=r.reshape(3,5)\n",
        "print(\"Array after reshape\")\n",
        "print(s)\n",
        "\n",
        "# 2. Print array shape.\n",
        "print(\"Array :\",s)\n",
        "print (\"The shape of array is:\",s.shape)\n",
        "\n",
        "# 3. Replace the max in each row by 0\n",
        "New_Array = np.where(s == [ [i] for i in np.amax(s, axis = 1) ], 0, s)\n",
        "print(New_Array)"
      ],
      "metadata": {
        "colab": {
          "base_uri": "https://localhost:8080/"
        },
        "id": "ln0ST-hz_Ne7",
        "outputId": "4ddd994f-c88f-49a5-9910-047037448523"
      },
      "execution_count": 9,
      "outputs": [
        {
          "output_type": "stream",
          "name": "stdout",
          "text": [
            "Random values are\n",
            "[ 6 17  9 10  9  3  2 17 19  2 12 18 11 11  5]\n",
            "Array after reshape\n",
            "[[ 6 17  9 10  9]\n",
            " [ 3  2 17 19  2]\n",
            " [12 18 11 11  5]]\n",
            "Array : [[ 6 17  9 10  9]\n",
            " [ 3  2 17 19  2]\n",
            " [12 18 11 11  5]]\n",
            "The shape of array is: (3, 5)\n",
            "[[ 6  0  9 10  9]\n",
            " [ 3  2 17  0  2]\n",
            " [12  0 11 11  5]]\n"
          ]
        }
      ]
    },
    {
      "cell_type": "markdown",
      "source": [
        " Create a 2-dimensional array of size 4 x 3 (composed of 4-byte integer elements), also print the shape, type and data type of the array."
      ],
      "metadata": {
        "id": "_Ft__qAr_blG"
      }
    },
    {
      "cell_type": "code",
      "source": [
        "import numpy as np\n",
        "\n",
        "arr = np.array([[3,3,3], [3,5,9], [9,4,7], [1,4,3]], dtype=np.int32)\n",
        "print(\"The shape of an array is \", arr.shape)\n",
        "print(\"The type of an array is \", type(arr))\n",
        "print(\"The data type of an array is \", arr.dtype)\n"
      ],
      "metadata": {
        "colab": {
          "base_uri": "https://localhost:8080/"
        },
        "id": "Liscuy8i_SqC",
        "outputId": "ab33e198-cc14-4b21-cddf-97bad8f07e81"
      },
      "execution_count": 10,
      "outputs": [
        {
          "output_type": "stream",
          "name": "stdout",
          "text": [
            "The shape of an array is  (4, 3)\n",
            "The type of an array is  <class 'numpy.ndarray'>\n",
            "The data type of an array is  int32\n"
          ]
        }
      ]
    },
    {
      "cell_type": "markdown",
      "source": [
        "(b) Write a program to compute the eigenvalues and right eigenvectors of a given square array given below:\n",
        "[[ 3 -2]\n",
        "[ 1 0]]"
      ],
      "metadata": {
        "id": "k5Jvh_jq_swU"
      }
    },
    {
      "cell_type": "code",
      "source": [
        "import numpy as np\n",
        "# defining the square array\n",
        "arr = np.array([[3, -2], [1, 0]])\n",
        "\n",
        "# compute the eigenvalues and right eigenvectors\n",
        "eigenvalues, eigenvectors = np.linalg.eig(arr)\n",
        "\n",
        "# print the eigenvalues and right eigenvectors\n",
        "print(\"Eigenvalues for a given array:\", eigenvalues)\n",
        "print(\"Right eigenvectors for a given array:\\n\",eigenvectors)"
      ],
      "metadata": {
        "colab": {
          "base_uri": "https://localhost:8080/"
        },
        "id": "0KZcyZLn_kDB",
        "outputId": "6444727c-c846-4cb7-a492-70718f32a095"
      },
      "execution_count": 11,
      "outputs": [
        {
          "output_type": "stream",
          "name": "stdout",
          "text": [
            "Eigenvalues for a given array: [2. 1.]\n",
            "Right eigenvectors for a given array:\n",
            " [[0.89442719 0.70710678]\n",
            " [0.4472136  0.70710678]]\n"
          ]
        }
      ]
    },
    {
      "cell_type": "markdown",
      "source": [
        "(c)Compute the sum of the diagonal element of a given array.\n",
        "[[0 1 2]\n",
        "[3 4 5]]"
      ],
      "metadata": {
        "id": "RDKnNyZ6_9lo"
      }
    },
    {
      "cell_type": "code",
      "source": [
        "import numpy as np\n",
        "\n",
        "arr = np.array([[0, 1, 2], [3, 4, 5]])\n",
        "sum = np.trace(arr)\n",
        "print(\"Sum of diagonal elements are+:\", sum)"
      ],
      "metadata": {
        "colab": {
          "base_uri": "https://localhost:8080/"
        },
        "id": "OR7cRVX2_3eh",
        "outputId": "35aeadf9-5b63-4b64-eabc-0446a27de88f"
      },
      "execution_count": 12,
      "outputs": [
        {
          "output_type": "stream",
          "name": "stdout",
          "text": [
            "Sum of diagonal elements are+: 4\n"
          ]
        }
      ]
    },
    {
      "cell_type": "markdown",
      "source": [
        "(d)Write a NumPy program to create a new shape to an array without changing its data.\n",
        "Reshape 3x2:\n",
        "[[1 2]\n",
        "[3 4]\n",
        "[5 6]]\n",
        "\n",
        "\n",
        "Reshape 2x3:\n",
        "[[1 2 3]\n",
        "[4 5 6]]"
      ],
      "metadata": {
        "id": "7nmilrzzASJk"
      }
    },
    {
      "cell_type": "code",
      "source": [
        "import numpy as np\n",
        "\n",
        "# define the original array\n",
        "arr = np.array([[1, 2], [3, 4], [5, 6]])\n",
        "\n",
        "# reshape to 3x2\n",
        "arr_3x2 = arr.reshape(3, 2)\n",
        "\n",
        "# reshape to 2x3\n",
        "arr_2x3 = arr.reshape(2, 3)\n",
        "\n",
        "print(\"Original array:\\n\", arr_3x2)\n",
        "print(\"Modified array:\\n\", arr_2x3)"
      ],
      "metadata": {
        "colab": {
          "base_uri": "https://localhost:8080/"
        },
        "id": "Q0dCdfCkAKc1",
        "outputId": "a9abd8dc-1245-4045-d855-1b6006cacfdf"
      },
      "execution_count": 14,
      "outputs": [
        {
          "output_type": "stream",
          "name": "stdout",
          "text": [
            "Original array:\n",
            " [[1 2]\n",
            " [3 4]\n",
            " [5 6]]\n",
            "Modified array:\n",
            " [[1 2 3]\n",
            " [4 5 6]]\n"
          ]
        }
      ]
    },
    {
      "cell_type": "code",
      "source": [],
      "metadata": {
        "id": "ditFJtDGAggR"
      },
      "execution_count": null,
      "outputs": []
    }
  ]
}